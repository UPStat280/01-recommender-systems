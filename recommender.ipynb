{
 "cells": [
  {
   "cell_type": "markdown",
   "metadata": {},
   "source": [
    "# Movie Recommendations\n",
    "\n",
    "MovieLens is a research site run by GroupLens Research at the University of Minnesota. MovieLens (https://movielens.org/) shares with community several datasets containing user's ratings of some movies. \n",
    "\n",
    "Our goal is to build a recommender system that will recommend user some movies that he probably would like to see based on his already collected ratings of other movies. For the purposes of this exercise we will focus on using Collaborative Filtering as our approach.\n",
    "\n",
    "**Types of collaborative filtering techniques**\n",
    "A lot of research has been done on collaborative filtering (CF), and most popular approaches are based on low-dimensional factor models (model based matrix factorization.\n",
    "\n",
    "![alt text](https://miro.medium.com/max/1050/1*7uW5hLXztSu_FOmZOWpB6g.png)\n",
    "\n",
    "**Memory-Based Collaborative Filtering** approaches can be divided into two main sections: user-item filtering and item-item filtering.\n",
    "\n",
    "On the otherhand, **Model-based Collaborative Filtering** approach are developed using machine learning algorithms to predict a user’s rating of unrated items.\n",
    "\n",
    "![alt text](https://cdn.codecentric.de/20210310095830/Fig1-1.png)\n",
    "\n",
    "\n",
    "\n"
   ]
  },
  {
   "cell_type": "markdown",
   "metadata": {},
   "source": [
    "# Libraries"
   ]
  },
  {
   "cell_type": "code",
   "execution_count": 18,
   "metadata": {},
   "outputs": [
    {
     "name": "stdout",
     "output_type": "stream",
     "text": [
      "Requirement already satisfied: fuzzywuzzy in /opt/anaconda3/lib/python3.8/site-packages (0.18.0)\r\n"
     ]
    }
   ],
   "source": [
    "#install fuzzywuzzy\n",
    "\n",
    "#FuzzyWuzzy is a library of Python which is used for string matching. \n",
    "#Fuzzy string matching is the process of finding strings that match a given pattern. \n",
    "#Basically it uses Levenshtein Distance to calculate the differences between sequences.\n",
    "\n",
    "!pip install fuzzywuzzy\n",
    "\n",
    "\n",
    "#Surprise is an open-source Python library for building recommender systems with explicit rating data. \n",
    "#install scikit surprise using terminal with code below\n",
    "\n",
    "#conda install -c conda-forge scikit-surprise\n",
    "\n"
   ]
  },
  {
   "cell_type": "code",
   "execution_count": 25,
   "metadata": {},
   "outputs": [],
   "source": [
    "# allows us to access dataframes\n",
    "import pandas as pd\n",
    "\n",
    "# specialized class for handling sparse matrices (compressed)\n",
    "from scipy.sparse import csr_matrix\n",
    "\n",
    "# Library for visualizing charts\n",
    "import matplotlib.pylab as plt\n",
    "\n",
    "# Fuzzy gives us access to functions that allow text scoring of similarities\n",
    "from fuzzywuzzy import fuzz\n",
    "\n",
    "# Gives us access to the unsupervised algorithm knn \n",
    "from sklearn.neighbors import NearestNeighbors\n",
    "\n",
    "# Surprise is an easy-to-use Python scikit for recommender systems.\n",
    "from surprise import SVD #SVD algorithm\n",
    "from surprise import KNNBasic # Knn algorithm\n",
    "from surprise import Dataset # Utility for loading datasets\n",
    "from surprise import Reader # Allows surprise to interpret the ratings\n",
    "from surprise.model_selection import cross_validate # cross validation utility\n"
   ]
  },
  {
   "cell_type": "markdown",
   "metadata": {},
   "source": [
    "# Exploration"
   ]
  },
  {
   "cell_type": "code",
   "execution_count": 12,
   "metadata": {},
   "outputs": [
    {
     "data": {
      "text/plain": [
       "movieId     int64\n",
       "title      object\n",
       "genres     object\n",
       "dtype: object"
      ]
     },
     "execution_count": 12,
     "metadata": {},
     "output_type": "execute_result"
    }
   ],
   "source": [
    "# https://grouplens.org/datasets/movielens\n",
    "# https://files.grouplens.org/datasets/movielens/ml-latest-small.zip\n",
    "movies_df = pd.read_csv(\"data/ml-latest-small/movies.csv\")\n",
    "movies_df.dtypes"
   ]
  },
  {
   "cell_type": "code",
   "execution_count": 13,
   "metadata": {},
   "outputs": [
    {
     "data": {
      "text/plain": [
       "(9742, 3)"
      ]
     },
     "execution_count": 13,
     "metadata": {},
     "output_type": "execute_result"
    }
   ],
   "source": [
    "movies_df.shape"
   ]
  },
  {
   "cell_type": "code",
   "execution_count": 14,
   "metadata": {},
   "outputs": [
    {
     "data": {
      "text/html": [
       "<div>\n",
       "<style scoped>\n",
       "    .dataframe tbody tr th:only-of-type {\n",
       "        vertical-align: middle;\n",
       "    }\n",
       "\n",
       "    .dataframe tbody tr th {\n",
       "        vertical-align: top;\n",
       "    }\n",
       "\n",
       "    .dataframe thead th {\n",
       "        text-align: right;\n",
       "    }\n",
       "</style>\n",
       "<table border=\"1\" class=\"dataframe\">\n",
       "  <thead>\n",
       "    <tr style=\"text-align: right;\">\n",
       "      <th></th>\n",
       "      <th>movieId</th>\n",
       "      <th>title</th>\n",
       "      <th>genres</th>\n",
       "    </tr>\n",
       "  </thead>\n",
       "  <tbody>\n",
       "    <tr>\n",
       "      <th>0</th>\n",
       "      <td>1</td>\n",
       "      <td>Toy Story (1995)</td>\n",
       "      <td>Adventure|Animation|Children|Comedy|Fantasy</td>\n",
       "    </tr>\n",
       "    <tr>\n",
       "      <th>1</th>\n",
       "      <td>2</td>\n",
       "      <td>Jumanji (1995)</td>\n",
       "      <td>Adventure|Children|Fantasy</td>\n",
       "    </tr>\n",
       "    <tr>\n",
       "      <th>2</th>\n",
       "      <td>3</td>\n",
       "      <td>Grumpier Old Men (1995)</td>\n",
       "      <td>Comedy|Romance</td>\n",
       "    </tr>\n",
       "    <tr>\n",
       "      <th>3</th>\n",
       "      <td>4</td>\n",
       "      <td>Waiting to Exhale (1995)</td>\n",
       "      <td>Comedy|Drama|Romance</td>\n",
       "    </tr>\n",
       "    <tr>\n",
       "      <th>4</th>\n",
       "      <td>5</td>\n",
       "      <td>Father of the Bride Part II (1995)</td>\n",
       "      <td>Comedy</td>\n",
       "    </tr>\n",
       "  </tbody>\n",
       "</table>\n",
       "</div>"
      ],
      "text/plain": [
       "   movieId                               title  \\\n",
       "0        1                    Toy Story (1995)   \n",
       "1        2                      Jumanji (1995)   \n",
       "2        3             Grumpier Old Men (1995)   \n",
       "3        4            Waiting to Exhale (1995)   \n",
       "4        5  Father of the Bride Part II (1995)   \n",
       "\n",
       "                                        genres  \n",
       "0  Adventure|Animation|Children|Comedy|Fantasy  \n",
       "1                   Adventure|Children|Fantasy  \n",
       "2                               Comedy|Romance  \n",
       "3                         Comedy|Drama|Romance  \n",
       "4                                       Comedy  "
      ]
     },
     "execution_count": 14,
     "metadata": {},
     "output_type": "execute_result"
    }
   ],
   "source": [
    "movies_df.head()"
   ]
  },
  {
   "cell_type": "code",
   "execution_count": 15,
   "metadata": {},
   "outputs": [
    {
     "data": {
      "text/plain": [
       "userId         int64\n",
       "movieId        int64\n",
       "rating       float64\n",
       "timestamp      int64\n",
       "dtype: object"
      ]
     },
     "execution_count": 15,
     "metadata": {},
     "output_type": "execute_result"
    }
   ],
   "source": [
    "ratings_df = pd.read_csv(\"data/ml-latest-small/ratings.csv\")\n",
    "ratings_df.dtypes"
   ]
  },
  {
   "cell_type": "code",
   "execution_count": 6,
   "metadata": {},
   "outputs": [
    {
     "data": {
      "text/plain": [
       "(100836, 4)"
      ]
     },
     "execution_count": 6,
     "metadata": {},
     "output_type": "execute_result"
    }
   ],
   "source": [
    "ratings_df.shape"
   ]
  },
  {
   "cell_type": "code",
   "execution_count": 26,
   "metadata": {},
   "outputs": [
    {
     "name": "stdout",
     "output_type": "stream",
     "text": [
      "There are 610 unique users and 9724 unique movies in this data set\n"
     ]
    }
   ],
   "source": [
    "num_users = len(ratings_df.userId.unique())\n",
    "num_items = len(ratings_df.movieId.unique())\n",
    "print('There are {} unique users and {} unique movies in this data set'.format(num_users, num_items))"
   ]
  },
  {
   "cell_type": "code",
   "execution_count": 27,
   "metadata": {
    "scrolled": false
   },
   "outputs": [
    {
     "data": {
      "text/html": [
       "<div>\n",
       "<style scoped>\n",
       "    .dataframe tbody tr th:only-of-type {\n",
       "        vertical-align: middle;\n",
       "    }\n",
       "\n",
       "    .dataframe tbody tr th {\n",
       "        vertical-align: top;\n",
       "    }\n",
       "\n",
       "    .dataframe thead th {\n",
       "        text-align: right;\n",
       "    }\n",
       "</style>\n",
       "<table border=\"1\" class=\"dataframe\">\n",
       "  <thead>\n",
       "    <tr style=\"text-align: right;\">\n",
       "      <th></th>\n",
       "      <th>userId</th>\n",
       "      <th>movieId</th>\n",
       "      <th>rating</th>\n",
       "      <th>timestamp</th>\n",
       "    </tr>\n",
       "  </thead>\n",
       "  <tbody>\n",
       "    <tr>\n",
       "      <th>0</th>\n",
       "      <td>1</td>\n",
       "      <td>1</td>\n",
       "      <td>4.0</td>\n",
       "      <td>964982703</td>\n",
       "    </tr>\n",
       "    <tr>\n",
       "      <th>1</th>\n",
       "      <td>1</td>\n",
       "      <td>3</td>\n",
       "      <td>4.0</td>\n",
       "      <td>964981247</td>\n",
       "    </tr>\n",
       "    <tr>\n",
       "      <th>2</th>\n",
       "      <td>1</td>\n",
       "      <td>6</td>\n",
       "      <td>4.0</td>\n",
       "      <td>964982224</td>\n",
       "    </tr>\n",
       "    <tr>\n",
       "      <th>3</th>\n",
       "      <td>1</td>\n",
       "      <td>47</td>\n",
       "      <td>5.0</td>\n",
       "      <td>964983815</td>\n",
       "    </tr>\n",
       "    <tr>\n",
       "      <th>4</th>\n",
       "      <td>1</td>\n",
       "      <td>50</td>\n",
       "      <td>5.0</td>\n",
       "      <td>964982931</td>\n",
       "    </tr>\n",
       "  </tbody>\n",
       "</table>\n",
       "</div>"
      ],
      "text/plain": [
       "   userId  movieId  rating  timestamp\n",
       "0       1        1     4.0  964982703\n",
       "1       1        3     4.0  964981247\n",
       "2       1        6     4.0  964982224\n",
       "3       1       47     5.0  964983815\n",
       "4       1       50     5.0  964982931"
      ]
     },
     "execution_count": 27,
     "metadata": {},
     "output_type": "execute_result"
    }
   ],
   "source": [
    "ratings_df.head()"
   ]
  },
  {
   "cell_type": "code",
   "execution_count": 9,
   "metadata": {},
   "outputs": [
    {
     "data": {
      "text/plain": [
       "Text(0.5, 1.0, 'Count of Movie Ratings per User Id')"
      ]
     },
     "execution_count": 9,
     "metadata": {},
     "output_type": "execute_result"
    },
    {
     "data": {
      "image/png": "[encoded data removed]",
      "text/plain": [
       "<Figure size 432x288 with 1 Axes>"
      ]
     },
     "metadata": {
      "needs_background": "light"
     },
     "output_type": "display_data"
    }
   ],
   "source": [
    "ratings_df[['userId','movieId']].groupby(['userId']).count().hist()\n",
    "plt.title(\"Count of Movie Ratings per User Id\")\n",
    "\n",
    "\n",
    "#most of the user have XX number of ratings"
   ]
  },
  {
   "cell_type": "code",
   "execution_count": 10,
   "metadata": {},
   "outputs": [
    {
     "data": {
      "text/html": [
       "<div>\n",
       "<style scoped>\n",
       "    .dataframe tbody tr th:only-of-type {\n",
       "        vertical-align: middle;\n",
       "    }\n",
       "\n",
       "    .dataframe tbody tr th {\n",
       "        vertical-align: top;\n",
       "    }\n",
       "\n",
       "    .dataframe thead th {\n",
       "        text-align: right;\n",
       "    }\n",
       "</style>\n",
       "<table border=\"1\" class=\"dataframe\">\n",
       "  <thead>\n",
       "    <tr style=\"text-align: right;\">\n",
       "      <th></th>\n",
       "      <th>movieId</th>\n",
       "    </tr>\n",
       "  </thead>\n",
       "  <tbody>\n",
       "    <tr>\n",
       "      <th>count</th>\n",
       "      <td>610.000000</td>\n",
       "    </tr>\n",
       "    <tr>\n",
       "      <th>mean</th>\n",
       "      <td>165.304918</td>\n",
       "    </tr>\n",
       "    <tr>\n",
       "      <th>std</th>\n",
       "      <td>269.480584</td>\n",
       "    </tr>\n",
       "    <tr>\n",
       "      <th>min</th>\n",
       "      <td>20.000000</td>\n",
       "    </tr>\n",
       "    <tr>\n",
       "      <th>25%</th>\n",
       "      <td>35.000000</td>\n",
       "    </tr>\n",
       "    <tr>\n",
       "      <th>50%</th>\n",
       "      <td>70.500000</td>\n",
       "    </tr>\n",
       "    <tr>\n",
       "      <th>75%</th>\n",
       "      <td>168.000000</td>\n",
       "    </tr>\n",
       "    <tr>\n",
       "      <th>max</th>\n",
       "      <td>2698.000000</td>\n",
       "    </tr>\n",
       "  </tbody>\n",
       "</table>\n",
       "</div>"
      ],
      "text/plain": [
       "           movieId\n",
       "count   610.000000\n",
       "mean    165.304918\n",
       "std     269.480584\n",
       "min      20.000000\n",
       "25%      35.000000\n",
       "50%      70.500000\n",
       "75%     168.000000\n",
       "max    2698.000000"
      ]
     },
     "execution_count": 10,
     "metadata": {},
     "output_type": "execute_result"
    }
   ],
   "source": [
    "ratings_df[['userId','movieId']].groupby(['userId']).count().describe()\n",
    "\n",
    "#there are 610 unique users\n",
    "#does the summary stats make sense?"
   ]
  },
  {
   "cell_type": "code",
   "execution_count": 11,
   "metadata": {},
   "outputs": [
    {
     "data": {
      "text/plain": [
       "Text(0.5, 1.0, 'Count of User Ratings per Movie Id')"
      ]
     },
     "execution_count": 11,
     "metadata": {},
     "output_type": "execute_result"
    },
    {
     "data": {
      "image/png": "[encoded data removed]",
      "text/plain": [
       "<Figure size 432x288 with 1 Axes>"
      ]
     },
     "metadata": {
      "needs_background": "light"
     },
     "output_type": "display_data"
    }
   ],
   "source": [
    "ratings_df[['userId','movieId']].groupby(['movieId']).count().hist()\n",
    "plt.title(\"Count of User Ratings per Movie Id\")"
   ]
  },
  {
   "cell_type": "code",
   "execution_count": 12,
   "metadata": {
    "scrolled": true
   },
   "outputs": [
    {
     "data": {
      "text/html": [
       "<div>\n",
       "<style scoped>\n",
       "    .dataframe tbody tr th:only-of-type {\n",
       "        vertical-align: middle;\n",
       "    }\n",
       "\n",
       "    .dataframe tbody tr th {\n",
       "        vertical-align: top;\n",
       "    }\n",
       "\n",
       "    .dataframe thead th {\n",
       "        text-align: right;\n",
       "    }\n",
       "</style>\n",
       "<table border=\"1\" class=\"dataframe\">\n",
       "  <thead>\n",
       "    <tr style=\"text-align: right;\">\n",
       "      <th></th>\n",
       "      <th>userId</th>\n",
       "    </tr>\n",
       "  </thead>\n",
       "  <tbody>\n",
       "    <tr>\n",
       "      <th>count</th>\n",
       "      <td>9724.000000</td>\n",
       "    </tr>\n",
       "    <tr>\n",
       "      <th>mean</th>\n",
       "      <td>10.369807</td>\n",
       "    </tr>\n",
       "    <tr>\n",
       "      <th>std</th>\n",
       "      <td>22.401005</td>\n",
       "    </tr>\n",
       "    <tr>\n",
       "      <th>min</th>\n",
       "      <td>1.000000</td>\n",
       "    </tr>\n",
       "    <tr>\n",
       "      <th>25%</th>\n",
       "      <td>1.000000</td>\n",
       "    </tr>\n",
       "    <tr>\n",
       "      <th>50%</th>\n",
       "      <td>3.000000</td>\n",
       "    </tr>\n",
       "    <tr>\n",
       "      <th>75%</th>\n",
       "      <td>9.000000</td>\n",
       "    </tr>\n",
       "    <tr>\n",
       "      <th>max</th>\n",
       "      <td>329.000000</td>\n",
       "    </tr>\n",
       "  </tbody>\n",
       "</table>\n",
       "</div>"
      ],
      "text/plain": [
       "            userId\n",
       "count  9724.000000\n",
       "mean     10.369807\n",
       "std      22.401005\n",
       "min       1.000000\n",
       "25%       1.000000\n",
       "50%       3.000000\n",
       "75%       9.000000\n",
       "max     329.000000"
      ]
     },
     "execution_count": 12,
     "metadata": {},
     "output_type": "execute_result"
    }
   ],
   "source": [
    "ratings_df[['userId','movieId']].groupby(['movieId']).count().describe()"
   ]
  },
  {
   "cell_type": "code",
   "execution_count": 13,
   "metadata": {},
   "outputs": [],
   "source": [
    "# based on this we can identify a threshold for amount of ratings to use per user/movie \n",
    "# ie. what is a popular movie? an active user? \n",
    "# Feel free to make this more or less restrictive as your model requires"
   ]
  },
  {
   "cell_type": "code",
   "execution_count": 14,
   "metadata": {
    "scrolled": false
   },
   "outputs": [
    {
     "data": {
      "text/plain": [
       "<AxesSubplot:title={'center':'Count of Rating Score'}>"
      ]
     },
     "execution_count": 14,
     "metadata": {},
     "output_type": "execute_result"
    },
    {
     "data": {
      "image/png": "[encoded data removed]",
      "text/plain": [
       "<Figure size 720x360 with 1 Axes>"
      ]
     },
     "metadata": {
      "needs_background": "light"
     },
     "output_type": "display_data"
    }
   ],
   "source": [
    "ratings_df['rating'].value_counts().plot.bar(title=\"Count of Rating Score\",figsize=(10,5))\n",
    "\n",
    "#what can we say about the ratings scores?"
   ]
  },
  {
   "cell_type": "markdown",
   "metadata": {},
   "source": [
    "# Preprocessing"
   ]
  },
  {
   "cell_type": "code",
   "execution_count": 28,
   "metadata": {},
   "outputs": [
    {
     "name": "stdout",
     "output_type": "stream",
     "text": [
      "shape of original ratings data:  (100836, 4)\n",
      "shape of ratings data after dropping unpopular movies:  (1246, 4)\n"
     ]
    }
   ],
   "source": [
    "# Given some of our findings, let's try to optimize our dataset by filtering to only the data that we need\n",
    "\n",
    "#why do we do this?\n",
    "\n",
    "popularity_thres = 20\n",
    "movie_rating_cnt_df = ratings_df[['userId','movieId']].groupby(['movieId']).count()\n",
    "popular_movies_df = movie_rating_cnt_df[movie_rating_cnt_df['userId']>=popularity_thres]\n",
    "\n",
    "\n",
    "filtered_pop_movies_df = ratings_df[ratings_df.index.isin(popular_movies_df.index.values)]\n",
    "print('shape of original ratings data: ', ratings_df.shape)\n",
    "print('shape of ratings data after dropping unpopular movies: ', filtered_pop_movies_df.shape)"
   ]
  },
  {
   "cell_type": "code",
   "execution_count": 29,
   "metadata": {},
   "outputs": [
    {
     "name": "stdout",
     "output_type": "stream",
     "text": [
      "shape of original ratings data:  (1246, 4)\n",
      "shape of ratings data after dropping both unpopular movies and inactive users:  (191, 4)\n"
     ]
    }
   ],
   "source": [
    "ratings_thres = 20\n",
    "active_users_cnt_df = ratings_df[['userId','movieId']].groupby(['userId']).count()\n",
    "active_users_df = active_users_cnt_df[active_users_cnt_df['movieId']>=ratings_thres]\n",
    "\n",
    "\n",
    "filtered_popular_active_df = filtered_pop_movies_df[filtered_pop_movies_df.index.isin(active_users_df.index.values)]\n",
    "print('shape of original ratings data: ', filtered_pop_movies_df.shape)\n",
    "print('shape of ratings data after dropping both unpopular movies and inactive users: ', filtered_popular_active_df.shape)"
   ]
  },
  {
   "cell_type": "code",
   "execution_count": 30,
   "metadata": {},
   "outputs": [
    {
     "data": {
      "text/html": [
       "<div>\n",
       "<style scoped>\n",
       "    .dataframe tbody tr th:only-of-type {\n",
       "        vertical-align: middle;\n",
       "    }\n",
       "\n",
       "    .dataframe tbody tr th {\n",
       "        vertical-align: top;\n",
       "    }\n",
       "\n",
       "    .dataframe thead th {\n",
       "        text-align: right;\n",
       "    }\n",
       "</style>\n",
       "<table border=\"1\" class=\"dataframe\">\n",
       "  <thead>\n",
       "    <tr style=\"text-align: right;\">\n",
       "      <th></th>\n",
       "      <th>userId</th>\n",
       "      <th>movieId</th>\n",
       "      <th>rating</th>\n",
       "      <th>timestamp</th>\n",
       "      <th>title</th>\n",
       "      <th>genres</th>\n",
       "    </tr>\n",
       "  </thead>\n",
       "  <tbody>\n",
       "    <tr>\n",
       "      <th>0</th>\n",
       "      <td>1</td>\n",
       "      <td>3</td>\n",
       "      <td>4.0</td>\n",
       "      <td>964981247</td>\n",
       "      <td>Grumpier Old Men (1995)</td>\n",
       "      <td>Comedy|Romance</td>\n",
       "    </tr>\n",
       "    <tr>\n",
       "      <th>1</th>\n",
       "      <td>1</td>\n",
       "      <td>6</td>\n",
       "      <td>4.0</td>\n",
       "      <td>964982224</td>\n",
       "      <td>Heat (1995)</td>\n",
       "      <td>Action|Crime|Thriller</td>\n",
       "    </tr>\n",
       "    <tr>\n",
       "      <th>2</th>\n",
       "      <td>1</td>\n",
       "      <td>47</td>\n",
       "      <td>5.0</td>\n",
       "      <td>964983815</td>\n",
       "      <td>Seven (a.k.a. Se7en) (1995)</td>\n",
       "      <td>Mystery|Thriller</td>\n",
       "    </tr>\n",
       "    <tr>\n",
       "      <th>3</th>\n",
       "      <td>1</td>\n",
       "      <td>70</td>\n",
       "      <td>3.0</td>\n",
       "      <td>964982400</td>\n",
       "      <td>From Dusk Till Dawn (1996)</td>\n",
       "      <td>Action|Comedy|Horror|Thriller</td>\n",
       "    </tr>\n",
       "    <tr>\n",
       "      <th>4</th>\n",
       "      <td>1</td>\n",
       "      <td>101</td>\n",
       "      <td>5.0</td>\n",
       "      <td>964980868</td>\n",
       "      <td>Bottle Rocket (1996)</td>\n",
       "      <td>Adventure|Comedy|Crime|Romance</td>\n",
       "    </tr>\n",
       "  </tbody>\n",
       "</table>\n",
       "</div>"
      ],
      "text/plain": [
       "   userId  movieId  rating  timestamp                        title  \\\n",
       "0       1        3     4.0  964981247      Grumpier Old Men (1995)   \n",
       "1       1        6     4.0  964982224                  Heat (1995)   \n",
       "2       1       47     5.0  964983815  Seven (a.k.a. Se7en) (1995)   \n",
       "3       1       70     3.0  964982400   From Dusk Till Dawn (1996)   \n",
       "4       1      101     5.0  964980868         Bottle Rocket (1996)   \n",
       "\n",
       "                           genres  \n",
       "0                  Comedy|Romance  \n",
       "1           Action|Crime|Thriller  \n",
       "2                Mystery|Thriller  \n",
       "3   Action|Comedy|Horror|Thriller  \n",
       "4  Adventure|Comedy|Crime|Romance  "
      ]
     },
     "execution_count": 30,
     "metadata": {},
     "output_type": "execute_result"
    }
   ],
   "source": [
    "# Let's transform this into a movie-user pivot table\n",
    "# Let's join them up first using a left join operation on movieId\n",
    "\n",
    "filtered_movie_ratings_merged_df = pd.merge(filtered_popular_active_df,movies_df, how='left', on=['movieId'])\n",
    "filtered_movie_ratings_merged_df.head()"
   ]
  },
  {
   "cell_type": "code",
   "execution_count": 31,
   "metadata": {
    "scrolled": true
   },
   "outputs": [
    {
     "data": {
      "text/html": [
       "<div>\n",
       "<style scoped>\n",
       "    .dataframe tbody tr th:only-of-type {\n",
       "        vertical-align: middle;\n",
       "    }\n",
       "\n",
       "    .dataframe tbody tr th {\n",
       "        vertical-align: top;\n",
       "    }\n",
       "\n",
       "    .dataframe thead th {\n",
       "        text-align: right;\n",
       "    }\n",
       "</style>\n",
       "<table border=\"1\" class=\"dataframe\">\n",
       "  <thead>\n",
       "    <tr style=\"text-align: right;\">\n",
       "      <th>userId</th>\n",
       "      <th>1</th>\n",
       "      <th>2</th>\n",
       "      <th>3</th>\n",
       "      <th>4</th>\n",
       "      <th>5</th>\n",
       "      <th>6</th>\n",
       "    </tr>\n",
       "    <tr>\n",
       "      <th>movieId</th>\n",
       "      <th></th>\n",
       "      <th></th>\n",
       "      <th></th>\n",
       "      <th></th>\n",
       "      <th></th>\n",
       "      <th></th>\n",
       "    </tr>\n",
       "  </thead>\n",
       "  <tbody>\n",
       "    <tr>\n",
       "      <th>3</th>\n",
       "      <td>4.0</td>\n",
       "      <td>0.0</td>\n",
       "      <td>0.0</td>\n",
       "      <td>0.0</td>\n",
       "      <td>0.0</td>\n",
       "      <td>0.0</td>\n",
       "    </tr>\n",
       "    <tr>\n",
       "      <th>4</th>\n",
       "      <td>0.0</td>\n",
       "      <td>0.0</td>\n",
       "      <td>0.0</td>\n",
       "      <td>0.0</td>\n",
       "      <td>0.0</td>\n",
       "      <td>3.0</td>\n",
       "    </tr>\n",
       "    <tr>\n",
       "      <th>6</th>\n",
       "      <td>4.0</td>\n",
       "      <td>0.0</td>\n",
       "      <td>0.0</td>\n",
       "      <td>0.0</td>\n",
       "      <td>0.0</td>\n",
       "      <td>0.0</td>\n",
       "    </tr>\n",
       "    <tr>\n",
       "      <th>21</th>\n",
       "      <td>0.0</td>\n",
       "      <td>0.0</td>\n",
       "      <td>0.0</td>\n",
       "      <td>3.0</td>\n",
       "      <td>0.0</td>\n",
       "      <td>0.0</td>\n",
       "    </tr>\n",
       "    <tr>\n",
       "      <th>31</th>\n",
       "      <td>0.0</td>\n",
       "      <td>0.0</td>\n",
       "      <td>0.5</td>\n",
       "      <td>0.0</td>\n",
       "      <td>0.0</td>\n",
       "      <td>0.0</td>\n",
       "    </tr>\n",
       "  </tbody>\n",
       "</table>\n",
       "</div>"
      ],
      "text/plain": [
       "userId     1    2    3    4    5    6\n",
       "movieId                              \n",
       "3        4.0  0.0  0.0  0.0  0.0  0.0\n",
       "4        0.0  0.0  0.0  0.0  0.0  3.0\n",
       "6        4.0  0.0  0.0  0.0  0.0  0.0\n",
       "21       0.0  0.0  0.0  3.0  0.0  0.0\n",
       "31       0.0  0.0  0.5  0.0  0.0  0.0"
      ]
     },
     "execution_count": 31,
     "metadata": {},
     "output_type": "execute_result"
    }
   ],
   "source": [
    "# Now let's pivot the dataframe such that it will have movieId as the index, and userId as columns\n",
    "filtered_movie_ratings_df = pd.pivot(filtered_movie_ratings_merged_df,index='movieId', columns='userId', values='rating').fillna(0)\n",
    "filtered_movie_ratings_df.head()"
   ]
  },
  {
   "cell_type": "code",
   "execution_count": 32,
   "metadata": {},
   "outputs": [
    {
     "data": {
      "text/plain": [
       "<191x4 sparse matrix of type '<class 'numpy.float64'>'\n",
       "\twith 764 stored elements in Compressed Sparse Row format>"
      ]
     },
     "execution_count": 32,
     "metadata": {},
     "output_type": "execute_result"
    }
   ],
   "source": [
    "#Matrices that contain mostly zero values are called sparse,\n",
    "#distinct from matrices where most of the values are non-zero, called dense.\n",
    "\n",
    "#It is computationally expensive to represent and work with sparse matrices as though they are dense, \n",
    "#and much improvement in performance can be achieved by using representations and operations \n",
    "#that specifically handle the matrix sparsity.\n",
    "\n",
    "# Now given that this is a sparse matrix, we will use scipy which has a matrix class\n",
    "# that is optimized to handle sparse matrix objects\n",
    "\n",
    "movie_ratings_mat = csr_matrix(filtered_popular_active_df.values)\n",
    "movie_ratings_mat\n",
    "\n",
    "# this will be used as input to the model"
   ]
  },
  {
   "cell_type": "markdown",
   "metadata": {},
   "source": [
    "# Memory-based Approach\n",
    "## Using KNN to estimate distance\n",
    "\n",
    "Here we will use KNN, which is an unsupervised learning model, in which a data point is classified by a majority vote of its neighbors, with the data point being assigned to the class most common amongst its k-nearest neighbors, as measured by a distance function (these can be of any kind depending upon your data being continuous or categorical). If k = 1, then the data point is simply assigned to the class of its nearest neighbor—i.e., itself."
   ]
  },
  {
   "cell_type": "code",
   "execution_count": 33,
   "metadata": {},
   "outputs": [
    {
     "data": {
      "text/plain": [
       "NearestNeighbors(algorithm='brute', metric='cosine', n_jobs=-1, n_neighbors=20)"
      ]
     },
     "execution_count": 33,
     "metadata": {},
     "output_type": "execute_result"
    }
   ],
   "source": [
    "# Metric is the distance algorithm to be used. You can find more choices here: \n",
    "# https://scikit-learn.org/stable/modules/generated/sklearn.neighbors.DistanceMetric.html#sklearn.neighbors.DistanceMetric\n",
    "\n",
    "# algorithm is the type of tree search used by the model\n",
    "# neighbors it the amount of neighbors identified\n",
    "model_knn = NearestNeighbors(metric='cosine', algorithm='brute', n_neighbors=20, n_jobs=-1)\n",
    "\n",
    "# fit\n",
    "model_knn.fit(movie_ratings_mat)"
   ]
  },
  {
   "cell_type": "markdown",
   "metadata": {},
   "source": [
    "KNN does not make any assumptions on the underlying data distribution but it relies on item feature similarity. When KNN makes inference about a movie, KNN will calculate the “distance” between the target movie and every other movie in its database, then it ranks its distances and returns the top K nearest neighbor movies as the most similar movie recommendations.\n",
    "\n",
    "![alt text](https://miro.medium.com/max/975/1*OyYyr9qY-w8RkaRh2TKo0w.png)"
   ]
  },
  {
   "cell_type": "code",
   "execution_count": 34,
   "metadata": {},
   "outputs": [
    {
     "data": {
      "text/plain": [
       "{'Toy Story (1995)': 0,\n",
       " 'Jumanji (1995)': 1,\n",
       " 'Grumpier Old Men (1995)': 2,\n",
       " 'Father of the Bride Part II (1995)': 3,\n",
       " 'Heat (1995)': 4,\n",
       " 'Sabrina (1995)': 5,\n",
       " 'GoldenEye (1995)': 6,\n",
       " 'American President, The (1995)': 7,\n",
       " 'Casino (1995)': 8,\n",
       " 'Sense and Sensibility (1995)': 9,\n",
       " 'Four Rooms (1995)': 10,\n",
       " 'Ace Ventura: When Nature Calls (1995)': 11,\n",
       " 'Get Shorty (1995)': 12,\n",
       " 'Copycat (1995)': 13,\n",
       " 'Powder (1995)': 14,\n",
       " 'Leaving Las Vegas (1995)': 15,\n",
       " 'City of Lost Children, The (Cité des enfants perdus, La) (1995)': 16,\n",
       " 'Dangerous Minds (1995)': 17,\n",
       " 'Twelve Monkeys (a.k.a. 12 Monkeys) (1995)': 18,\n",
       " 'Babe (1995)': 19,\n",
       " 'Dead Man Walking (1995)': 20,\n",
       " 'Clueless (1995)': 21,\n",
       " 'Mortal Kombat (1995)': 22,\n",
       " 'To Die For (1995)': 23,\n",
       " 'Seven (a.k.a. Se7en) (1995)': 24,\n",
       " 'Pocahontas (1995)': 25,\n",
       " 'Usual Suspects, The (1995)': 26,\n",
       " 'Mighty Aphrodite (1995)': 27,\n",
       " 'Postman, The (Postino, Il) (1994)': 28,\n",
       " 'Indian in the Cupboard, The (1995)': 29,\n",
       " \"Mr. Holland's Opus (1995)\": 30,\n",
       " 'Bio-Dome (1996)': 31,\n",
       " 'Friday (1995)': 32,\n",
       " 'From Dusk Till Dawn (1996)': 33,\n",
       " 'Broken Arrow (1996)': 34,\n",
       " 'Bottle Rocket (1996)': 35,\n",
       " 'Happy Gilmore (1996)': 36,\n",
       " 'Bridges of Madison County, The (1995)': 37,\n",
       " 'Muppet Treasure Island (1996)': 38,\n",
       " 'Braveheart (1995)': 39,\n",
       " 'Taxi Driver (1976)': 40,\n",
       " 'Rumble in the Bronx (Hont faan kui) (1995)': 41,\n",
       " 'Down Periscope (1996)': 42,\n",
       " 'Birdcage, The (1996)': 43,\n",
       " 'Bad Boys (1995)': 44,\n",
       " 'Apollo 13 (1995)': 45,\n",
       " 'Rob Roy (1995)': 46,\n",
       " 'Batman Forever (1995)': 47,\n",
       " 'Casper (1995)': 48,\n",
       " 'Congo (1995)': 49,\n",
       " 'Crimson Tide (1995)': 50,\n",
       " 'Desperado (1995)': 51,\n",
       " 'Die Hard: With a Vengeance (1995)': 52,\n",
       " 'First Knight (1995)': 53,\n",
       " 'Hackers (1995)': 54,\n",
       " 'Johnny Mnemonic (1995)': 55,\n",
       " 'Judge Dredd (1995)': 56,\n",
       " 'Kids (1995)': 57,\n",
       " 'Mallrats (1995)': 58,\n",
       " 'Net, The (1995)': 59,\n",
       " 'Nine Months (1995)': 60,\n",
       " 'Showgirls (1995)': 61,\n",
       " 'Species (1995)': 62,\n",
       " 'Strange Days (1995)': 63,\n",
       " 'To Wong Foo, Thanks for Everything! Julie Newmar (1995)': 64,\n",
       " 'Under Siege 2: Dark Territory (1995)': 65,\n",
       " 'Walk in the Clouds, A (1995)': 66,\n",
       " 'Waterworld (1995)': 67,\n",
       " 'Before Sunrise (1995)': 68,\n",
       " 'Billy Madison (1995)': 69,\n",
       " 'Clerks (1994)': 70,\n",
       " 'Don Juan DeMarco (1995)': 71,\n",
       " 'Disclosure (1994)': 72,\n",
       " 'Drop Zone (1994)': 73,\n",
       " 'Dolores Claiborne (1995)': 74,\n",
       " 'Dumb & Dumber (Dumb and Dumber) (1994)': 75,\n",
       " 'Ed Wood (1994)': 76,\n",
       " 'French Kiss (1995)': 77,\n",
       " 'Forget Paris (1995)': 78,\n",
       " 'Hoop Dreams (1994)': 79,\n",
       " 'Heavenly Creatures (1994)': 80,\n",
       " 'I.Q. (1994)': 81,\n",
       " 'Interview with the Vampire: The Vampire Chronicles (1994)': 82,\n",
       " 'Junior (1994)': 83,\n",
       " 'Star Wars: Episode IV - A New Hope (1977)': 84,\n",
       " 'Little Women (1994)': 85,\n",
       " 'Little Princess, A (1995)': 86,\n",
       " 'Like Water for Chocolate (Como agua para chocolate) (1992)': 87,\n",
       " 'Legends of the Fall (1994)': 88,\n",
       " 'Madness of King George, The (1994)': 89,\n",
       " \"Mary Shelley's Frankenstein (Frankenstein) (1994)\": 90,\n",
       " 'Milk Money (1994)': 91,\n",
       " 'Miracle on 34th Street (1994)': 92,\n",
       " 'Nell (1994)': 93,\n",
       " 'Natural Born Killers (1994)': 94,\n",
       " 'Outbreak (1995)': 95,\n",
       " 'Léon: The Professional (a.k.a. The Professional) (Léon) (1994)': 96,\n",
       " 'Pulp Fiction (1994)': 97,\n",
       " 'Quiz Show (1994)': 98,\n",
       " 'Quick and the Dead, The (1995)': 99,\n",
       " 'Three Colors: Blue (Trois couleurs: Bleu) (1993)': 100,\n",
       " 'Three Colors: White (Trzy kolory: Bialy) (1994)': 101,\n",
       " 'Specialist, The (1994)': 102,\n",
       " 'Stargate (1994)': 103,\n",
       " 'Santa Clause, The (1994)': 104,\n",
       " 'Shawshank Redemption, The (1994)': 105,\n",
       " 'Shallow Grave (1994)': 106,\n",
       " 'Tank Girl (1995)': 107,\n",
       " 'Star Trek: Generations (1994)': 108,\n",
       " 'Tommy Boy (1995)': 109,\n",
       " \"What's Eating Gilbert Grape (1993)\": 110,\n",
       " 'While You Were Sleeping (1995)': 111,\n",
       " \"Muriel's Wedding (1994)\": 112,\n",
       " 'Ace Ventura: Pet Detective (1994)': 113,\n",
       " 'Adventures of Priscilla, Queen of the Desert, The (1994)': 114,\n",
       " 'Bullets Over Broadway (1994)': 115,\n",
       " 'Clear and Present Danger (1994)': 116,\n",
       " 'Client, The (1994)': 117,\n",
       " 'Crow, The (1994)': 118,\n",
       " 'Flintstones, The (1994)': 119,\n",
       " 'Forrest Gump (1994)': 120,\n",
       " 'Four Weddings and a Funeral (1994)': 121,\n",
       " 'Jungle Book, The (1994)': 122,\n",
       " 'Lion King, The (1994)': 123,\n",
       " 'Mask, The (1994)': 124,\n",
       " 'Maverick (1994)': 125,\n",
       " 'Naked Gun 33 1/3: The Final Insult (1994)': 126,\n",
       " 'Paper, The (1994)': 127,\n",
       " 'Reality Bites (1994)': 128,\n",
       " 'Richie Rich (1994)': 129,\n",
       " 'River Wild, The (1994)': 130,\n",
       " 'Speed (1994)': 131,\n",
       " 'Timecop (1994)': 132,\n",
       " 'True Lies (1994)': 133,\n",
       " 'Wyatt Earp (1994)': 134,\n",
       " 'Addams Family Values (1993)': 135,\n",
       " 'Airheads (1994)': 136,\n",
       " 'Beverly Hillbillies, The (1993)': 137,\n",
       " 'Beverly Hills Cop III (1994)': 138,\n",
       " \"Carlito's Way (1993)\": 139,\n",
       " \"City Slickers II: The Legend of Curly's Gold (1994)\": 140,\n",
       " 'Cliffhanger (1993)': 141,\n",
       " 'Coneheads (1993)': 142,\n",
       " 'Dave (1993)': 143,\n",
       " 'Dazed and Confused (1993)': 144,\n",
       " 'Demolition Man (1993)': 145,\n",
       " 'Firm, The (1993)': 146,\n",
       " 'Free Willy (1993)': 147,\n",
       " 'Fugitive, The (1993)': 148,\n",
       " 'Hot Shots! Part Deux (1993)': 149,\n",
       " 'Englishman Who Went Up a Hill But Came Down a Mountain, The (1995)': 150,\n",
       " 'Hudsucker Proxy, The (1994)': 151,\n",
       " 'In the Line of Fire (1993)': 152,\n",
       " 'In the Name of the Father (1993)': 153,\n",
       " 'Jurassic Park (1993)': 154,\n",
       " 'Last Action Hero (1993)': 155,\n",
       " 'Executive Decision (1996)': 156,\n",
       " 'Much Ado About Nothing (1993)': 157,\n",
       " 'Mrs. Doubtfire (1993)': 158,\n",
       " 'Philadelphia (1993)': 159,\n",
       " 'Piano, The (1993)': 160,\n",
       " 'Remains of the Day, The (1993)': 161,\n",
       " 'RoboCop 3 (1993)': 162,\n",
       " 'Robin Hood: Men in Tights (1993)': 163,\n",
       " 'Rudy (1993)': 164,\n",
       " \"Schindler's List (1993)\": 165,\n",
       " 'Searching for Bobby Fischer (1993)': 166,\n",
       " 'Secret Garden, The (1993)': 167,\n",
       " 'Sleepless in Seattle (1993)': 168,\n",
       " 'Blade Runner (1982)': 169,\n",
       " 'So I Married an Axe Murderer (1993)': 170,\n",
       " 'Super Mario Bros. (1993)': 171,\n",
       " 'Nightmare Before Christmas, The (1993)': 172,\n",
       " 'Three Musketeers, The (1993)': 173,\n",
       " 'Tombstone (1993)': 174,\n",
       " 'True Romance (1993)': 175,\n",
       " 'Welcome to the Dollhouse (1995)': 176,\n",
       " 'Brady Bunch Movie, The (1995)': 177,\n",
       " 'Home Alone (1990)': 178,\n",
       " 'Ghost (1990)': 179,\n",
       " 'Aladdin (1992)': 180,\n",
       " 'Terminator 2: Judgment Day (1991)': 181,\n",
       " 'Dances with Wolves (1990)': 182,\n",
       " 'Batman (1989)': 183,\n",
       " 'Silence of the Lambs, The (1991)': 184,\n",
       " 'Snow White and the Seven Dwarfs (1937)': 185,\n",
       " 'Beauty and the Beast (1991)': 186,\n",
       " 'Pinocchio (1940)': 187,\n",
       " 'Pretty Woman (1990)': 188,\n",
       " 'Fargo (1996)': 189,\n",
       " 'Heavy Metal (1981)': 190}"
      ]
     },
     "execution_count": 34,
     "metadata": {},
     "output_type": "execute_result"
    }
   ],
   "source": [
    "\n",
    "# Let's create a movie title index that we can use later to retrieve titles based on index of our filtered dataset\n",
    "# this results to a dictionary with the said mapping\n",
    "movie_to_index = {movie: i for i, movie in enumerate(list(movies_df.set_index('movieId').loc[filtered_popular_active_df.index].title))}\n",
    "movie_to_index"
   ]
  },
  {
   "cell_type": "code",
   "execution_count": 35,
   "metadata": {},
   "outputs": [],
   "source": [
    "# Let's create a function that will give us the nearest movie title based on the nearest text input\n",
    "\n",
    "def get_movie_title(title):\n",
    "\n",
    "    tmp_list = []\n",
    "    # Let's take our movie to index items and iterate thru them to find the nearest 'similar' title\n",
    "    for movie_title,idx in movie_to_index.items():\n",
    "        # ratio is a function that give's a score on how \"similar\" two words are\n",
    "        # the higher the score, the more similar they are\n",
    "        ratio = fuzz.ratio(title.lower(),movie_title.lower())\n",
    "\n",
    "        # we will use 60 as our cut off\n",
    "        if(ratio>=60):\n",
    "            tmp_dict = {\"idx\":idx,\"title\":movie_title, \"ratio\":ratio}\n",
    "            tmp_list.append(tmp_dict)\n",
    "    \n",
    "    # If we don't get anything, return blank\n",
    "    if(tmp_list == []):\n",
    "        return None\n",
    "    \n",
    "    # We will store all similar titles and return a dataframe sorted in descending order of ratio\n",
    "    tmp_df = pd.DataFrame(tmp_list)\n",
    "    tmp_df = tmp_df.sort_values(\"ratio\", ascending=False)\n",
    "    return tmp_df\n",
    "\n"
   ]
  },
  {
   "cell_type": "code",
   "execution_count": 40,
   "metadata": {
    "scrolled": true
   },
   "outputs": [
    {
     "name": "stdout",
     "output_type": "stream",
     "text": [
      "You have input movie: jumanji\n"
     ]
    },
    {
     "data": {
      "text/html": [
       "<div>\n",
       "<style scoped>\n",
       "    .dataframe tbody tr th:only-of-type {\n",
       "        vertical-align: middle;\n",
       "    }\n",
       "\n",
       "    .dataframe tbody tr th {\n",
       "        vertical-align: top;\n",
       "    }\n",
       "\n",
       "    .dataframe thead th {\n",
       "        text-align: right;\n",
       "    }\n",
       "</style>\n",
       "<table border=\"1\" class=\"dataframe\">\n",
       "  <thead>\n",
       "    <tr style=\"text-align: right;\">\n",
       "      <th></th>\n",
       "      <th>idx</th>\n",
       "      <th>title</th>\n",
       "      <th>ratio</th>\n",
       "    </tr>\n",
       "  </thead>\n",
       "  <tbody>\n",
       "    <tr>\n",
       "      <th>0</th>\n",
       "      <td>1</td>\n",
       "      <td>Jumanji (1995)</td>\n",
       "      <td>67</td>\n",
       "    </tr>\n",
       "  </tbody>\n",
       "</table>\n",
       "</div>"
      ],
      "text/plain": [
       "   idx           title  ratio\n",
       "0    1  Jumanji (1995)     67"
      ]
     },
     "execution_count": 40,
     "metadata": {},
     "output_type": "execute_result"
    }
   ],
   "source": [
    "# Let's try it out\n",
    "fav_movie = \"jumanji\"\n",
    "print('You have input movie:', fav_movie)\n",
    "movie_matches_df = get_movie_title(fav_movie)\n",
    "movie_matches_df"
   ]
  },
  {
   "cell_type": "markdown",
   "metadata": {},
   "source": [
    "# Let's Recommend!"
   ]
  },
  {
   "cell_type": "code",
   "execution_count": 41,
   "metadata": {},
   "outputs": [
    {
     "name": "stdout",
     "output_type": "stream",
     "text": [
      "Let's start making recommendations!...\n",
      "Our recommendations based on:  jumanji\n"
     ]
    },
    {
     "data": {
      "text/html": [
       "<div>\n",
       "<style scoped>\n",
       "    .dataframe tbody tr th:only-of-type {\n",
       "        vertical-align: middle;\n",
       "    }\n",
       "\n",
       "    .dataframe tbody tr th {\n",
       "        vertical-align: top;\n",
       "    }\n",
       "\n",
       "    .dataframe thead th {\n",
       "        text-align: right;\n",
       "    }\n",
       "</style>\n",
       "<table border=\"1\" class=\"dataframe\">\n",
       "  <thead>\n",
       "    <tr style=\"text-align: right;\">\n",
       "      <th></th>\n",
       "      <th>Distances</th>\n",
       "      <th>Indices</th>\n",
       "      <th>Title</th>\n",
       "    </tr>\n",
       "  </thead>\n",
       "  <tbody>\n",
       "    <tr>\n",
       "      <th>0</th>\n",
       "      <td>0.000000e+00</td>\n",
       "      <td>0</td>\n",
       "      <td>Toy Story (1995)</td>\n",
       "    </tr>\n",
       "    <tr>\n",
       "      <th>1</th>\n",
       "      <td>0.000000e+00</td>\n",
       "      <td>1</td>\n",
       "      <td>Jumanji (1995)</td>\n",
       "    </tr>\n",
       "    <tr>\n",
       "      <th>2</th>\n",
       "      <td>0.000000e+00</td>\n",
       "      <td>176</td>\n",
       "      <td>Welcome to the Dollhouse (1995)</td>\n",
       "    </tr>\n",
       "    <tr>\n",
       "      <th>3</th>\n",
       "      <td>1.110223e-16</td>\n",
       "      <td>98</td>\n",
       "      <td>Quiz Show (1994)</td>\n",
       "    </tr>\n",
       "    <tr>\n",
       "      <th>4</th>\n",
       "      <td>2.220446e-16</td>\n",
       "      <td>85</td>\n",
       "      <td>Little Women (1994)</td>\n",
       "    </tr>\n",
       "    <tr>\n",
       "      <th>5</th>\n",
       "      <td>5.551115e-16</td>\n",
       "      <td>162</td>\n",
       "      <td>RoboCop 3 (1993)</td>\n",
       "    </tr>\n",
       "    <tr>\n",
       "      <th>6</th>\n",
       "      <td>6.661338e-16</td>\n",
       "      <td>163</td>\n",
       "      <td>Robin Hood: Men in Tights (1993)</td>\n",
       "    </tr>\n",
       "    <tr>\n",
       "      <th>7</th>\n",
       "      <td>7.771561e-16</td>\n",
       "      <td>2</td>\n",
       "      <td>Grumpier Old Men (1995)</td>\n",
       "    </tr>\n",
       "    <tr>\n",
       "      <th>8</th>\n",
       "      <td>8.881784e-16</td>\n",
       "      <td>177</td>\n",
       "      <td>Brady Bunch Movie, The (1995)</td>\n",
       "    </tr>\n",
       "    <tr>\n",
       "      <th>9</th>\n",
       "      <td>8.881784e-16</td>\n",
       "      <td>99</td>\n",
       "      <td>Quick and the Dead, The (1995)</td>\n",
       "    </tr>\n",
       "    <tr>\n",
       "      <th>10</th>\n",
       "      <td>1.110223e-15</td>\n",
       "      <td>178</td>\n",
       "      <td>Home Alone (1990)</td>\n",
       "    </tr>\n",
       "  </tbody>\n",
       "</table>\n",
       "</div>"
      ],
      "text/plain": [
       "       Distances  Indices                             Title\n",
       "0   0.000000e+00        0                  Toy Story (1995)\n",
       "1   0.000000e+00        1                    Jumanji (1995)\n",
       "2   0.000000e+00      176   Welcome to the Dollhouse (1995)\n",
       "3   1.110223e-16       98                  Quiz Show (1994)\n",
       "4   2.220446e-16       85               Little Women (1994)\n",
       "5   5.551115e-16      162                  RoboCop 3 (1993)\n",
       "6   6.661338e-16      163  Robin Hood: Men in Tights (1993)\n",
       "7   7.771561e-16        2           Grumpier Old Men (1995)\n",
       "8   8.881784e-16      177     Brady Bunch Movie, The (1995)\n",
       "9   8.881784e-16       99    Quick and the Dead, The (1995)\n",
       "10  1.110223e-15      178                 Home Alone (1990)"
      ]
     },
     "metadata": {},
     "output_type": "display_data"
    }
   ],
   "source": [
    "print(\"Let's start making recommendations!...\")\n",
    "\n",
    "if(movie_matches_df is  None):\n",
    "    print(\"No Matching movies :(\")\n",
    "else:\n",
    "\n",
    "    # We will provide the indices of the matching movies to filter the matrix and give our starting location\n",
    "    input_movies = movie_ratings_mat[movie_matches_df.idx.values]\n",
    "\n",
    "    # Indicate the top recommendations we want to get (how many neighbors should we find?)\n",
    "    top_recommendations = 10\n",
    "\n",
    "    # model will return a list of distances and indices\n",
    "    distances, indices = model_knn.kneighbors(input_movies, n_neighbors=top_recommendations+1)\n",
    "\n",
    "    # let's create a dictionary that  will allow us to retrieve the movie name using the index\n",
    "    reverse_mapper = {v: k for k, v in movie_to_index.items()}\n",
    "\n",
    "    # let's print the output\n",
    "    tmp_df = pd.DataFrame()\n",
    "    tmp_df['Distances'] = (distances).reshape(1,11)[0]\n",
    "    tmp_df['Indices'] = (indices).reshape(1,11)[0]\n",
    "    tmp_df['Title'] = tmp_df['Indices'].apply(lambda x: reverse_mapper[x])\n",
    "\n",
    "    print(\"Our recommendations based on: \",fav_movie)\n",
    "    \n",
    "    # dispaly is a jupyter only command to present a dataframe\n",
    "    display(tmp_df.sort_values('Distances'))"
   ]
  },
  {
   "cell_type": "code",
   "execution_count": 42,
   "metadata": {},
   "outputs": [
    {
     "name": "stdout",
     "output_type": "stream",
     "text": [
      "Computing the msd similarity matrix...\n",
      "Done computing similarity matrix.\n",
      "Computing the msd similarity matrix...\n",
      "Done computing similarity matrix.\n",
      "Computing the msd similarity matrix...\n",
      "Done computing similarity matrix.\n",
      "Computing the msd similarity matrix...\n",
      "Done computing similarity matrix.\n",
      "Computing the msd similarity matrix...\n",
      "Done computing similarity matrix.\n",
      "Evaluating RMSE of algorithm KNNBasic on 5 split(s).\n",
      "\n",
      "                  Fold 1  Fold 2  Fold 3  Fold 4  Fold 5  Mean    Std     \n",
      "RMSE (testset)    1.3507  1.2241  1.4230  1.4493  1.1778  1.3250  0.1073  \n",
      "Fit time          0.00    0.00    0.00    0.00    0.00    0.00    0.00    \n",
      "Test time         0.00    0.00    0.00    0.00    0.00    0.00    0.00    \n"
     ]
    },
    {
     "data": {
      "text/plain": [
       "{'test_rmse': array([1.35065286, 1.22414787, 1.4230116 , 1.44930059, 1.17780819]),\n",
       " 'fit_time': (0.0005381107330322266,\n",
       "  0.001055002212524414,\n",
       "  0.0003669261932373047,\n",
       "  0.00043892860412597656,\n",
       "  0.0004620552062988281),\n",
       " 'test_time': (0.0014147758483886719,\n",
       "  0.0009658336639404297,\n",
       "  0.0006310939788818359,\n",
       "  0.0007460117340087891,\n",
       "  0.0004057884216308594)}"
      ]
     },
     "execution_count": 42,
     "metadata": {},
     "output_type": "execute_result"
    }
   ],
   "source": [
    "# Let's use surprise library to get a measure of our knn model's RMSE metric\n",
    "\n",
    "# A reader is still needed but only the rating_scale param is requiered.\n",
    "reader = Reader(rating_scale=(1, 5))\n",
    "\n",
    "# The columns must correspond to user id, item id and ratings (in that order).\n",
    "data = Dataset.load_from_df(filtered_movie_ratings_merged_df[['userId', 'movieId', 'rating']], reader)\n",
    "\n",
    "# We'll train a knn model in surprise using our same data set\n",
    "knnbasic = KNNBasic()\n",
    "\n",
    "# Run 5-fold cross-validation and print results.\n",
    "knn_results = cross_validate(knnbasic, data, measures=['RMSE'], cv=5, verbose=True)\n",
    "knn_results\n",
    "# Smaller RMSE means our model is able to give better recommendation\n",
    "\n",
    "#how do we try other knn models?"
   ]
  },
  {
   "cell_type": "markdown",
   "metadata": {},
   "source": [
    "# Model based approach\n",
    "\n",
    "To Make things much more easier, we will be using the Surprise scikit which specializes in recommender models.\n",
    "\n",
    "Continuing our Collaborative Filtering example, we will now use a model based approach via SVD (Singular Value Decomposition), as popularized by Simon Funk during the Netflix Prize. When baselines are not used, this is equivalent to Probabilistic Matrix Factorization [salakhutdinov2008a].\n",
    "\n",
    "Supplementary reading for SVD: https://towardsdatascience.com/understanding-singular-value-decomposition-and-its-application-in-data-science-388a54be95d\n",
    "\n",
    "SVD vs PCA https://jonathan-hui.medium.com/machine-learning-singular-value-decomposition-svd-principal-component-analysis-pca-1d45e885e491\n",
    "\n",
    "\"From a simplified perspective, PCA transforms data linearly into new properties that are not correlated with each other. For ML, positioning PCA as feature extraction may allow us to explore its potential better than dimension reduction.\n",
    "What is the difference between SVD and PCA? SVD gives you the whole nine-yard of diagonalizing a matrix into special matrices that are easy to manipulate and to analyze. It lay down the foundation to untangle data into independent components. PCA skips less significant components. Obviously, we can use SVD to find PCA by truncating the less important basis vectors in the original SVD matrix\""
   ]
  },
  {
   "cell_type": "code",
   "execution_count": 44,
   "metadata": {},
   "outputs": [
    {
     "name": "stdout",
     "output_type": "stream",
     "text": [
      "Evaluating RMSE of algorithm SVD on 5 split(s).\n",
      "\n",
      "                  Fold 1  Fold 2  Fold 3  Fold 4  Fold 5  Mean    Std     \n",
      "RMSE (testset)    1.4171  1.1448  0.9966  1.0734  1.3229  1.1910  0.1564  \n",
      "Fit time          0.02    0.02    0.02    0.01    0.01    0.02    0.00    \n",
      "Test time         0.00    0.00    0.00    0.00    0.00    0.00    0.00    \n"
     ]
    },
    {
     "data": {
      "text/plain": [
       "{'test_rmse': array([1.41714702, 1.14482502, 0.99664799, 1.07342594, 1.32291714]),\n",
       " 'fit_time': (0.01945805549621582,\n",
       "  0.019916057586669922,\n",
       "  0.023185253143310547,\n",
       "  0.013567924499511719,\n",
       "  0.012364864349365234),\n",
       " 'test_time': (0.002128124237060547,\n",
       "  0.0005919933319091797,\n",
       "  0.0002989768981933594,\n",
       "  0.00034499168395996094,\n",
       "  0.00029397010803222656)}"
      ]
     },
     "execution_count": 44,
     "metadata": {},
     "output_type": "execute_result"
    }
   ],
   "source": [
    "# A reader is still needed but only the rating_scale param is requiered.\n",
    "reader = Reader(rating_scale=(1, 5))\n",
    "\n",
    "# The columns must correspond to user id, item id and ratings (in that order).\n",
    "data = Dataset.load_from_df(filtered_movie_ratings_merged_df[['userId', 'movieId', 'rating']], reader)\n",
    "\n",
    "# Use the famous SVD algorithm\n",
    "algo = SVD()\n",
    "\n",
    "# Run 5-fold cross-validation and print results.\n",
    "svd_results = cross_validate(algo, data, measures=['RMSE'], cv=5, verbose=True)\n",
    "svd_results\n",
    "# Smaller RMSE means our model is able to give better recommendation"
   ]
  },
  {
   "cell_type": "markdown",
   "metadata": {},
   "source": [
    "# Let's try to predict"
   ]
  },
  {
   "cell_type": "code",
   "execution_count": 46,
   "metadata": {},
   "outputs": [
    {
     "name": "stdout",
     "output_type": "stream",
     "text": [
      "Prediction for rating: \n",
      "user: 1          item: 3          r_ui = 4.00   est = 3.88   {'was_impossible': False}\n"
     ]
    },
    {
     "data": {
      "text/plain": [
       "Prediction(uid='1', iid='3', r_ui=4, est=3.8790849673202614, details={'was_impossible': False})"
      ]
     },
     "execution_count": 46,
     "metadata": {},
     "output_type": "execute_result"
    }
   ],
   "source": [
    "# User rated 4\n",
    "uid = str(1)  \n",
    "\n",
    "# Movie: Grumpier Old Men (1995)\n",
    "iid = str(3)  \n",
    "\n",
    "#Get the prediction for the specific users and movie.\n",
    "print(\"Prediction for rating: \")\n",
    "pred = algo.predict(uid, iid, r_ui=4, verbose=True)\n",
    "pred"
   ]
  },
  {
   "cell_type": "code",
   "execution_count": 28,
   "metadata": {},
   "outputs": [],
   "source": [
    "# Our model was able to predict that the user (1) will rate the movie (3) a score of 3.7875 (4)"
   ]
  },
  {
   "cell_type": "markdown",
   "metadata": {},
   "source": [
    "# Let's compare the two using RMSE"
   ]
  },
  {
   "cell_type": "code",
   "execution_count": 47,
   "metadata": {},
   "outputs": [
    {
     "data": {
      "text/html": [
       "<div>\n",
       "<style scoped>\n",
       "    .dataframe tbody tr th:only-of-type {\n",
       "        vertical-align: middle;\n",
       "    }\n",
       "\n",
       "    .dataframe tbody tr th {\n",
       "        vertical-align: top;\n",
       "    }\n",
       "\n",
       "    .dataframe thead th {\n",
       "        text-align: right;\n",
       "    }\n",
       "</style>\n",
       "<table border=\"1\" class=\"dataframe\">\n",
       "  <thead>\n",
       "    <tr style=\"text-align: right;\">\n",
       "      <th></th>\n",
       "      <th>knn</th>\n",
       "      <th>svd</th>\n",
       "    </tr>\n",
       "  </thead>\n",
       "  <tbody>\n",
       "    <tr>\n",
       "      <th>Fold 1</th>\n",
       "      <td>1.350653</td>\n",
       "      <td>1.417147</td>\n",
       "    </tr>\n",
       "    <tr>\n",
       "      <th>Fold 2</th>\n",
       "      <td>1.224148</td>\n",
       "      <td>1.144825</td>\n",
       "    </tr>\n",
       "    <tr>\n",
       "      <th>Fold 3</th>\n",
       "      <td>1.423012</td>\n",
       "      <td>0.996648</td>\n",
       "    </tr>\n",
       "    <tr>\n",
       "      <th>Fold 4</th>\n",
       "      <td>1.449301</td>\n",
       "      <td>1.073426</td>\n",
       "    </tr>\n",
       "    <tr>\n",
       "      <th>Fold 5</th>\n",
       "      <td>1.177808</td>\n",
       "      <td>1.322917</td>\n",
       "    </tr>\n",
       "    <tr>\n",
       "      <th>Mean</th>\n",
       "      <td>1.324984</td>\n",
       "      <td>1.190993</td>\n",
       "    </tr>\n",
       "    <tr>\n",
       "      <th>Std</th>\n",
       "      <td>0.119950</td>\n",
       "      <td>0.174838</td>\n",
       "    </tr>\n",
       "  </tbody>\n",
       "</table>\n",
       "</div>"
      ],
      "text/plain": [
       "             knn       svd\n",
       "Fold 1  1.350653  1.417147\n",
       "Fold 2  1.224148  1.144825\n",
       "Fold 3  1.423012  0.996648\n",
       "Fold 4  1.449301  1.073426\n",
       "Fold 5  1.177808  1.322917\n",
       "Mean    1.324984  1.190993\n",
       "Std     0.119950  0.174838"
      ]
     },
     "execution_count": 47,
     "metadata": {},
     "output_type": "execute_result"
    }
   ],
   "source": [
    "metric_df = pd.DataFrame()\n",
    "metric_df['knn'] = knn_results['test_rmse']\n",
    "metric_df['svd'] = svd_results['test_rmse']\n",
    "\n",
    "tmp_dict1 = {'knn':metric_df['knn'].mean(),'svd':metric_df['svd'].mean()}\n",
    "tmp_dict2 = {'knn':metric_df['knn'].std(),'svd':metric_df['svd'].std()}\n",
    "\n",
    "metric_df = metric_df.append(tmp_dict1,ignore_index=True)\n",
    "metric_df = metric_df.append(tmp_dict2,ignore_index=True)\n",
    "metric_df.index = ['Fold 1','Fold 2','Fold 3','Fold 4','Fold 5','Mean','Std']\n",
    "metric_df\n"
   ]
  },
  {
   "cell_type": "markdown",
   "metadata": {},
   "source": [
    "# Top n predictions and the hit rate"
   ]
  },
  {
   "cell_type": "code",
   "execution_count": 48,
   "metadata": {},
   "outputs": [],
   "source": [
    "from collections import defaultdict\n",
    "\n",
    "# accept list of predictions and n of top n\n",
    "def get_top_n(predictions, n=10):\n",
    "\n",
    "    # First map the predictions to each user.\n",
    "    top_n = defaultdict(list)\n",
    "    for uid, iid, true_r, est, _ in predictions:\n",
    "        # top_n = is a dictionary to map rating to a userid as key\n",
    "        # est = predicted rating\n",
    "        # iid = movie id\n",
    "        # uid = user id\n",
    "        top_n[uid].append((iid, est))\n",
    "\n",
    "    # Then sort the predictions for each user and retrieve the k highest ones.\n",
    "    for uid, user_ratings in top_n.items():\n",
    "        \n",
    "        # x[1] refers to the est score, which means sort highest to lowest using the rating per user\n",
    "        user_ratings.sort(key=lambda x: x[1], reverse=True)\n",
    "        top_n[uid] = user_ratings[:n]\n",
    "\n",
    "    return top_n\n"
   ]
  },
  {
   "cell_type": "code",
   "execution_count": 49,
   "metadata": {},
   "outputs": [
    {
     "name": "stdout",
     "output_type": "stream",
     "text": [
      "Computing the msd similarity matrix...\n",
      "Done computing similarity matrix.\n",
      "\n",
      "top n recommendations for knn\n",
      "1 [125, 232, 260, 265, 898, 910, 914, 920, 1080, 1084]\n",
      "2 [3, 6, 47, 70, 101, 110, 163, 216, 296, 316]\n",
      "3 [3, 6, 47, 70, 101, 110, 163, 216, 296, 316]\n",
      "4 [101, 163, 216, 333, 362, 457, 923, 954, 1023, 1025]\n",
      "5 [101, 163, 216, 333, 362, 457, 923, 954, 1023, 1025]\n",
      "6 [101, 163, 216, 333, 362, 457, 608, 919, 923, 954]\n",
      "\n",
      "top n recommendations for svd\n",
      "1 [1080, 247, 5919, 4121, 6874, 2926, 1084, 3317, 898, 2467]\n",
      "2 [7991, 920, 260, 910, 475, 2641, 247, 1198, 1804, 919]\n",
      "3 [3253, 3317, 1073, 708, 112552, 608, 590, 1804, 2874, 362]\n",
      "4 [43, 2542, 54, 80489, 1198, 1804, 2387, 2596, 1089, 849]\n",
      "5 [919, 910, 112552, 920, 333, 2641, 1947, 43, 1620, 125]\n",
      "6 [1947, 1080, 919, 2542, 608, 216, 1197, 898, 247, 2874]\n"
     ]
    }
   ],
   "source": [
    "from surprise.model_selection import LeaveOneOut\n",
    "\n",
    "\n",
    "# Let's rebuild our models\n",
    "# A reader is still needed but only the rating_scale param is requiered.\n",
    "reader = Reader(rating_scale=(1, 5))\n",
    "\n",
    "# The columns must correspond to user id, item id and ratings (in that order).\n",
    "data = Dataset.load_from_df(filtered_movie_ratings_merged_df[['userId', 'movieId', 'rating']], reader)\n",
    "\n",
    "#Build a \"leave one out\" train/test split for evaluating top-N recommenders\n",
    "LOOCV = LeaveOneOut(n_splits=1, random_state=1)\n",
    "for train, test in LOOCV.split(data):\n",
    "    LOOCVTrain = train\n",
    "    LOOCVTest = test\n",
    "\n",
    "#Save leave one out test predictions\n",
    "leftoutpredictions = LOOCVTest\n",
    "#And build an anti-test-set for building predictions\n",
    "LOOCVAntiTestSet = LOOCVTrain.build_anti_testset()\n",
    "\n",
    "\n",
    "# generate two models\n",
    "knn = KNNBasic()\n",
    "svd = SVD()\n",
    "\n",
    "# fit using generated training set from data\n",
    "knn.fit(LOOCVTrain)\n",
    "svd.fit(LOOCVTrain)\n",
    "\n",
    "# Then predict ratings for all pairs (u, i) that are NOT in the training set (from data)\n",
    "#testset = trainset.build_anti_testset()\n",
    "\n",
    "# generate predictions\n",
    "knn_predictions = knn.test(LOOCVAntiTestSet)\n",
    "svd_predictions = svd.test(LOOCVAntiTestSet)\n",
    "\n",
    "# generate top ten recommendations based on users NOT in the training set\n",
    "knn_top_n = get_top_n(knn_predictions, n=10)\n",
    "svd_top_n = get_top_n(svd_predictions, n=10)\n",
    "\n",
    "# Print the recommended items for each user\n",
    "print(\"\")\n",
    "print(\"top n recommendations for knn\")\n",
    "for uid, user_ratings in knn_top_n.items():\n",
    "    print(uid, [iid for (iid, _) in user_ratings])\n",
    "\n",
    "print(\"\")\n",
    "print(\"top n recommendations for svd\")   \n",
    "for uid, user_ratings in svd_top_n.items():\n",
    "    print(uid, [iid for (iid, _) in user_ratings])"
   ]
  },
  {
   "cell_type": "code",
   "execution_count": 32,
   "metadata": {},
   "outputs": [],
   "source": [
    "def hitrate(topNpredictions,leftoutpredictions):\n",
    "    hits=0\n",
    "    total=0\n",
    "    \n",
    "    # iterate thru the leftout (test) predictions\n",
    "    for leftout in leftoutpredictions:\n",
    "        uid=leftout[0]\n",
    "        leftoutmovieid=leftout[1]\n",
    "        hit=False\n",
    "        \n",
    "        # check which ones are predicted correctly\n",
    "        for movieId ,predictedRating in topNpredictions.items():\n",
    "            if(int(movieId)==int(leftoutmovieid)):\n",
    "                hit=True\n",
    "                \n",
    "        # increment hit counter\n",
    "        if(hit):\n",
    "            hits+=1\n",
    "        total+=1 \n",
    "\n",
    "    # return metric\n",
    "    return hits/total "
   ]
  },
  {
   "cell_type": "code",
   "execution_count": 33,
   "metadata": {},
   "outputs": [],
   "source": [
    "# Hit rate for our models\n",
    "hitrate_df = pd.DataFrame()\n",
    "hitrate_df['knn'] = [hitrate(knn_top_n, leftoutpredictions)]\n",
    "hitrate_df['svd'] = [hitrate(svd_top_n, leftoutpredictions)]\n",
    "hitrate_df.index = ['hitrate']"
   ]
  },
  {
   "cell_type": "code",
   "execution_count": 34,
   "metadata": {},
   "outputs": [
    {
     "name": "stdout",
     "output_type": "stream",
     "text": [
      "Metric Comparison (RSME)\n"
     ]
    },
    {
     "data": {
      "text/html": [
       "<div>\n",
       "<style scoped>\n",
       "    .dataframe tbody tr th:only-of-type {\n",
       "        vertical-align: middle;\n",
       "    }\n",
       "\n",
       "    .dataframe tbody tr th {\n",
       "        vertical-align: top;\n",
       "    }\n",
       "\n",
       "    .dataframe thead th {\n",
       "        text-align: right;\n",
       "    }\n",
       "</style>\n",
       "<table border=\"1\" class=\"dataframe\">\n",
       "  <thead>\n",
       "    <tr style=\"text-align: right;\">\n",
       "      <th></th>\n",
       "      <th>knn</th>\n",
       "      <th>svd</th>\n",
       "    </tr>\n",
       "  </thead>\n",
       "  <tbody>\n",
       "    <tr>\n",
       "      <th>Fold 1</th>\n",
       "      <td>1.058235</td>\n",
       "      <td>1.267273</td>\n",
       "    </tr>\n",
       "    <tr>\n",
       "      <th>Fold 2</th>\n",
       "      <td>1.205084</td>\n",
       "      <td>1.222790</td>\n",
       "    </tr>\n",
       "    <tr>\n",
       "      <th>Fold 3</th>\n",
       "      <td>1.499377</td>\n",
       "      <td>1.129512</td>\n",
       "    </tr>\n",
       "    <tr>\n",
       "      <th>Fold 4</th>\n",
       "      <td>1.449903</td>\n",
       "      <td>1.367942</td>\n",
       "    </tr>\n",
       "    <tr>\n",
       "      <th>Fold 5</th>\n",
       "      <td>1.353449</td>\n",
       "      <td>1.082704</td>\n",
       "    </tr>\n",
       "    <tr>\n",
       "      <th>Mean</th>\n",
       "      <td>1.313210</td>\n",
       "      <td>1.214044</td>\n",
       "    </tr>\n",
       "    <tr>\n",
       "      <th>Std</th>\n",
       "      <td>0.181429</td>\n",
       "      <td>0.112905</td>\n",
       "    </tr>\n",
       "    <tr>\n",
       "      <th>HitRate</th>\n",
       "      <td>0.166667</td>\n",
       "      <td>0.166667</td>\n",
       "    </tr>\n",
       "  </tbody>\n",
       "</table>\n",
       "</div>"
      ],
      "text/plain": [
       "              knn       svd\n",
       "Fold 1   1.058235  1.267273\n",
       "Fold 2   1.205084  1.222790\n",
       "Fold 3   1.499377  1.129512\n",
       "Fold 4   1.449903  1.367942\n",
       "Fold 5   1.353449  1.082704\n",
       "Mean     1.313210  1.214044\n",
       "Std      0.181429  0.112905\n",
       "HitRate  0.166667  0.166667"
      ]
     },
     "metadata": {},
     "output_type": "display_data"
    }
   ],
   "source": [
    "# Let's append this to our metric dataframe\n",
    "final_metric_df = metric_df.append(hitrate_df,ignore_index=True)\n",
    "final_metric_df.index = ['Fold 1','Fold 2','Fold 3','Fold 4','Fold 5','Mean','Std','HitRate']\n",
    "print(\"Metric Comparison (RSME)\")\n",
    "display(final_metric_df)"
   ]
  },
  {
   "cell_type": "markdown",
   "metadata": {},
   "source": [
    "# Does better RSME mean better hit rate?"
   ]
  },
  {
   "cell_type": "markdown",
   "metadata": {},
   "source": [
    "# Additional References\n",
    "- https://en.wikipedia.org/wiki/Collaborative_filtering\n",
    "- http://recommender-systems.org/collaborative-filtering/\n",
    "- https://www.geeksforgeeks.org/fuzzywuzzy-python-library/\n",
    "- https://medium.com/@rishabhbhatia315/recommendation-system-evaluation-metrics-3f6739288870\n",
    "- http://surpriselib.com/\n",
    "\n",
    "## Data sets to try\n",
    "- https://data.world/socialmediadata/beeradvocate\n",
    "- http://eigentaste.berkeley.edu/dataset/\n",
    "- https://cseweb.ucsd.edu/~jmcauley/datasets.html"
   ]
  },
  {
   "cell_type": "code",
   "execution_count": null,
   "metadata": {},
   "outputs": [],
   "source": []
  }
 ],
 "metadata": {
  "kernelspec": {
   "display_name": "Python 3",
   "language": "python",
   "name": "python3"
  },
  "language_info": {
   "codemirror_mode": {
    "name": "ipython",
    "version": 3
   },
   "file_extension": ".py",
   "mimetype": "text/x-python",
   "name": "python",
   "nbconvert_exporter": "python",
   "pygments_lexer": "ipython3",
   "version": "3.8.5"
  }
 },
 "nbformat": 4,
 "nbformat_minor": 5
}
